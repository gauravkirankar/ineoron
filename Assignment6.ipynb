{
 "cells": [
  {
   "cell_type": "raw",
   "metadata": {},
   "source": [
    "1. What are escape characters, and how do you use them?\n",
    "Ans =  Escape characters are special characters in Python that allow you to represent certain characters that are difficult or impossible to type using a keyboard. Escape characters are represented by a backslash () followed by another character.\n",
    "Here are some common escape characters in Python:\n",
    "\n",
    "\\n: newline\n",
    "\\t: tab\n",
    "': single quote\n",
    "\": double quote"
   ]
  },
  {
   "cell_type": "raw",
   "metadata": {},
   "source": [
    "2. What do the escape characters n and t stand for?\n",
    "Ans= In Python, the escape character \\n represents a newline, and the escape character \\t represents a horizontal tab."
   ]
  },
  {
   "cell_type": "raw",
   "metadata": {},
   "source": [
    "3. What is the way to include backslash characters in a string?\n",
    "Ans = In Python, you can include a backslash character in a string by using the escape sequence \\\\."
   ]
  },
  {
   "cell_type": "raw",
   "metadata": {},
   "source": [
    "4. The string \"Howl's Moving Castle\" is a correct value. Why isn't the single quote character in the\n",
    "word Howl's not escaped a problem?\n",
    "Ans = In Python, strings can be enclosed in single quotes (') or double quotes (\"), and either type of quote can be used to include the other type of quote inside the string without the need for escaping.\n",
    "\n",
    "In the given example, the string \"Howl's Moving Castle\" is enclosed in double quotes and contains a single quote character in the word \"Howl's\". Since the string is enclosed in double quotes, the single quote character does not need to be escaped, and Python recognizes it as part of the string."
   ]
  },
  {
   "cell_type": "raw",
   "metadata": {},
   "source": [
    "5. How do you write a string of newlines if you don't want to use the n character?\n",
    "Ans = If you don't want to use the \\n character to create a string of newlines in Python, you can use a multi-line string literal.\n",
    "\n",
    "In Python, a multi-line string literal is created by enclosing a string in triple quotes (\"\"\"). This allows you to include newlines directly in the string without the need for the \\n escape sequence."
   ]
  },
  {
   "cell_type": "raw",
   "metadata": {},
   "source": [
    "6. What are the values of the given expressions?\n",
    "\n",
    "'Hello, world!'[1]   = 'e'\n",
    "'Hello, world!'[0:5] = 'Hello'\n",
    "'Hello, world!'[:5]  = 'Hello'\n",
    "'Hello, world!'[3:]  = 'lo, world!'"
   ]
  },
  {
   "cell_type": "raw",
   "metadata": {},
   "source": [
    "7. What are the values of the following expressions?\n",
    "'Hello'.upper()              = 'HELLO'\n",
    "'Hello'.upper().isupper()    = 'True'\n",
    "'Hello'.upper().lower()      = 'hello'"
   ]
  },
  {
   "cell_type": "raw",
   "metadata": {},
   "source": [
    "8. What are the values of the following expressions?\n",
    "'Remember, remember, the fifth of July.'.split() = ['Remember,', 'remember,', 'the', 'fifth', 'of', 'July.']\n",
    "'-'.join('There can only one.'.split())       =   'There-can-only-one.'"
   ]
  },
  {
   "cell_type": "raw",
   "metadata": {},
   "source": [
    "9. What are the methods for right-justifying, left-justifying, and centering a string?\n",
    "Ans = left-justifying =  method returns a new string with the original string left-justified within a field of the specified width. If the original string is shorter than the width, the remaining characters are filled with the specified fill character (default is a space).\n",
    "\n",
    "  right-justifying = method returns a new string with the original string right-justified within a field of the specified width. If the original string is shorter than the width, the remaining characters are filled with the specified fill character (default is a space).\n",
    "\n",
    "  centering = method returns a new string with the original string centered within a field of the specified width. If the original string is shorter than the width, the remaining characters are filled with the specified fill character"
   ]
  },
  {
   "cell_type": "raw",
   "metadata": {},
   "source": [
    "10. What is the best way to remove whitespace characters from the start or end?\n",
    "Ans= Use the .strip() method to remove whitespace and characters from the beginning and the end of a string. Use the .lstrip() method to remove whitespace and characters only from the beginning of a string."
   ]
  }
 ],
 "metadata": {
  "language_info": {
   "name": "python"
  },
  "orig_nbformat": 4
 },
 "nbformat": 4,
 "nbformat_minor": 2
}
