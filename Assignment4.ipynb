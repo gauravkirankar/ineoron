{
 "cells": [
  {
   "cell_type": "raw",
   "metadata": {},
   "source": [
    "1. What exactly is []?\n",
    "Ans= \"[]\" is used to represent an empty list, array or set. It is used to initialize a variable with an empty collection of items."
   ]
  },
  {
   "cell_type": "raw",
   "metadata": {},
   "source": [
    "2. In a list of values stored in a variable called spam, how would you assign the value \"hello\" as the\n",
    "third value? (Assume [2, 4, 6, 8, 10] are in spam.)\n",
    "Ans = You can assign the value 'hello' as the third value in the list by using the index of the element you want to replace and the assignment operator (=).\n",
    "Here is an example :\n",
    "    spam = [2, 4, 6, 8, 10]\n",
    "    spam[2] = 'hello'\n",
    "\n",
    "    Now the third element of the list spam will be 'hello' and the list would be [2, 4, 'hello', 8, 10].\n"
   ]
  },
  {
   "cell_type": "raw",
   "metadata": {},
   "source": [
    "Let's pretend the spam includes the list ['a', 'b','c','d'] for the next three queries.\n",
    "3. What is the value of spam[int(int('3' * 2) / 11)]?\n",
    "Ans = The value of spam[int(int('3' * 2) / 11)] is 'd'.\n",
    "This is because:\n",
    "\n",
    "int('3' * 2) evaluates to int(33) which is 33\n",
    "33 / 11 is 3, and the result of this operation is 3 (integer division)\n",
    "The value of spam[3] is 'd'\n",
    "So the expression would be evaluated as spam[3] = 'd'"
   ]
  },
  {
   "cell_type": "raw",
   "metadata": {},
   "source": [
    "4. What is the value of spam[-1]?\n",
    "Ans = The value of spam[-1] is 'd'\n",
    "In python, when you use negative indexing, it counts from the end of the list. So -1 refers to the last element in the list, which in this case is 'd'"
   ]
  },
  {
   "cell_type": "raw",
   "metadata": {},
   "source": [
    "5. What is the value of spam[:2]?\n",
    "Ans = The value of spam[:2] is ['a', 'b']\n",
    "The colon (:) is used for slicing and in this case it returns a sub-list of the list spam starting from the first element until element with index 2 ( not included), which is ['a', 'b']"
   ]
  },
  {
   "cell_type": "raw",
   "metadata": {},
   "source": [
    "Let's pretend bacon has the list [3.14, 'cat', 11, 'cat', True] for the next three questions.\n",
    "6. What is the value of bacon.index('cat')?\n",
    "Ans = The value of bacon.index('cat') is 1\n",
    "The .index() method is used to find the first index of an element in a list. In this case, the element 'cat' is located at the first position which is index 1."
   ]
  },
  {
   "cell_type": "raw",
   "metadata": {},
   "source": [
    "7. How does bacon.append(99) change the look of the list value in bacon?\n",
    "Ans = The .append() method is used to add an element at the end of a list.\n",
    "So if we use bacon.append(99), it would add the value 99 to the end of the list bacon, thus the list would look like this:\n",
    "[3.14, 'cat', 11, 'cat', True, 99]\n",
    "It would increase the size of the list by one and the new element will be the last element of the list."
   ]
  },
  {
   "cell_type": "raw",
   "metadata": {},
   "source": [
    "8. How does bacon.remove(&#39;cat&#39;) change the look of the list in bacon?\n",
    "Ans = The .remove() method is used to remove the first occurrence of an element from a list.\n",
    "So if we use bacon.remove('cat'), it would remove the first occurrence of the string 'cat' from the list bacon.\n",
    "The list would look like this:\n",
    "[3.14, 11, 'cat', True]\n"
   ]
  },
  {
   "cell_type": "raw",
   "metadata": {},
   "source": [
    "9. What are the list concatenation and list replication operators?\n",
    "Ans =  List concatenation = The \"+\" operator is used for list concatenation. This operator combines two or more lists into a single list.\n",
    "\n",
    "    List replication = The \"*\" operator is used for list replication. This operator creates a new list by replicating the elements of an existing list a certain number of times."
   ]
  },
  {
   "cell_type": "raw",
   "metadata": {},
   "source": [
    "10. What is difference between the list methods append() and insert()?\n",
    "Ans = Both append() and insert() methods are used to add elements to a list, but they are used for different purposes and in slightly different ways.\n",
    "\n",
    "1. The append() method is used to add an element at the end of a list. For example:\n",
    "    list1 = [1, 2, 3]\n",
    "    list1.append(4)\n",
    "\n",
    "2. The insert() method is used to add an element at a specific position in a list. It takes two arguments: the index at which to insert the element and the element itself. For example:\n",
    "list1 = [1, 2, 3]\n",
    "list1.insert(1, 4)\n"
   ]
  },
  {
   "cell_type": "raw",
   "metadata": {},
   "source": [
    "11. What are the two methods for removing items from a list?\n",
    "Ans = The two methods for removing items from a list in Python are the remove() method and the del statement. The remove() method removes the first matching item in the list, and the del statement can be used to remove a specific item or a range of items by index"
   ]
  },
  {
   "cell_type": "raw",
   "metadata": {},
   "source": [
    "12. Describe how list values and string values are identical.\n",
    "Ans = Both lists and strings can be indexed and sliced to access specific values, and they can be iterated over in a for loop. They also share some common methods for manipulating the data, such as len(), min(), max() and so on.\n"
   ]
  },
  {
   "cell_type": "raw",
   "metadata": {},
   "source": [
    "13. What's the difference between tuples and lists?\n",
    "Ans =  The main difference between tuples and lists in Python is that tuples are immutable, while lists are mutable.\n",
    "\n",
    "A tuple is a collection of items, enclosed in parentheses () and separated by commas. Once a tuple is created, the items within it cannot be modified. This makes them useful for representing data that should not be changed, such as the coordinates of a point or the elements of a matrix.\n",
    "\n",
    "A list, on the other hand, is a collection of items, enclosed in square brackets [] and separated by commas. Lists are mutable, meaning that their values can be changed after they are created. This makes them more flexible than tuples, but also less safe to use when data should not be modified.\n"
   ]
  },
  {
   "cell_type": "raw",
   "metadata": {},
   "source": [
    "14. How do you type a tuple value that only contains the integer 42?\n",
    "Ans = To create a tuple that only contains the integer 42, you can use parentheses () and enclose the integer 42 within them.\n",
    "\n",
    "Here's an example of how you can type a tuple value that only contains the integer 42:\n",
    "my_tuple = 42,\n"
   ]
  },
  {
   "cell_type": "raw",
   "metadata": {},
   "source": [
    "15. How do you get a list value's tuple form? How do you get a tuple value's list form?\n",
    "Ans = To convert a list value to a tuple, you can use the built-in tuple() function. For example:\n",
    "        my_list = [1, 2, 3]\n",
    "        my_tuple = tuple(my_list)\n",
    "\n",
    "    To convert a tuple value to a list, you can use the built-in list() function. For example:\n",
    "    my_tuple = (1, 2, 3)\n",
    "    my_list = list(my_tuple)\n"
   ]
  },
  {
   "cell_type": "raw",
   "metadata": {},
   "source": [
    "16. Variables that \"contain\" list values are not necessarily lists themselves. Instead, what do they contain?\n",
    "Ans = Variables that \"contain\" list values do not contain the list itself, but instead they contain a reference to the list.\n",
    "\n",
    "In Python, when you assign a list value to a variable, you are not creating a new copy of the list, but instead you are creating a new reference to the same list in memory. This means that any changes made to the list through the variable will also be reflected in any other variables that reference the same list."
   ]
  },
  {
   "cell_type": "raw",
   "metadata": {},
   "source": [
    "17. How do you distinguish between copy.copy() and copy.deepcopy()?\n",
    "Ans= copy.copy() creates a shallow copy of an object. A shallow copy is a copy of the object that references the same underlying data as the original object. This means that if the original object is a collection of other objects (such as a list of lists), the copy will contain references to the same inner objects as the original, rather than copies of them.\n",
    "\n",
    "copy.deepcopy() creates a deep copy of an object. A deep copy is a copy of the object that contains completely independent copies of all the objects it references, including all the inner objects. This means that if the original object is a collection of other objects, the copy will contain new copies of all the inner objects, and changes made to the inner objects through the copy will not affect the original object."
   ]
  }
 ],
 "metadata": {
  "language_info": {
   "name": "python"
  },
  "orig_nbformat": 4
 },
 "nbformat": 4,
 "nbformat_minor": 2
}
