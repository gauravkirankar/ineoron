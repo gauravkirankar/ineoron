{
 "cells": [
  {
   "cell_type": "raw",
   "metadata": {},
   "source": [
    "1. Why are functions advantageous to have in your programs?\n",
    "Ans = Functions in Python are advantageous because they allow for code reusability, modularity, and easier debugging. By encapsulating a specific functionality in a function, it can be called multiple times throughout a program, reducing the need to repeat the same code. Functions also allow for easy organization and separation of different parts of a program, making the code more readable and maintainable."
   ]
  },
  {
   "cell_type": "raw",
   "metadata": {},
   "source": [
    "2. When does the code in a function run: when it's specified or when it's called?\n",
    "Ans = The code in a function runs when the function is called.\n",
    "In Python, when you define a function using the def keyword, the code inside the function is not executed. The function definition simply creates a function object that contains the function's code."
   ]
  },
  {
   "cell_type": "raw",
   "metadata": {},
   "source": [
    "3. What statement creates a function?\n",
    "Ans = The def statement creates a function in Python. The general syntax for defining a function is as follows:\n",
    "        def function_name(parameters):\n",
    "            # function body\n",
    "    It is also possible to define a function without any parameters, or with default parameters. Here is an example of a function without any parameters:\n",
    "        def print_hello():\n",
    "            print(\"Hello, World!\")"
   ]
  },
  {
   "cell_type": "raw",
   "metadata": {},
   "source": [
    "4. What is the difference between a function and a function call?\n",
    "Ans = \n",
    "Function =\n",
    " A function is a block of code that can perform a specific task and can be reused multiple times throughout a program. It is defined using the def keyword and can take zero or more parameters as input. Once defined, a function can be called by its name followed by parentheses, with any necessary arguments passed inside the parentheses.\n",
    "\n",
    " Function call =\n",
    "    A function call is an instruction to execute the code inside a function. It is made by writing the function name followed by parentheses, and passing any necessary arguments inside the parentheses. When a function is called, the code inside the function is executed with the given arguments, and the function may return a value."
   ]
  },
  {
   "cell_type": "raw",
   "metadata": {},
   "source": [
    "5. How many global scopes are there in a Python program? How many local scopes?\n",
    "Ans = In a Python program, there is only one global scope. All variables that are defined outside of any function or class are considered to be in the global scope and are accessible throughout the entire program.\n",
    "\n",
    "On the other hand, there can be multiple local scopes in a Python program. A local scope is created whenever a function or a class is defined, and it is specific to that function or class. Variables defined within a local scope are only accessible within that scope and are not visible outside of it."
   ]
  },
  {
   "cell_type": "raw",
   "metadata": {},
   "source": [
    "6. What happens to variables in a local scope when the function call returns?\n",
    "Ans = When a function call returns, the local scope of that function is destroyed, and any variables defined within that scope are no longer accessible. In other words, the memory allocated for those variables is freed up and can be used for other purposes."
   ]
  },
  {
   "cell_type": "raw",
   "metadata": {},
   "source": [
    "7. What is the concept of a return value? Is it possible to have a return value in an expression?\n",
    "Ans = A return value is the value that a function or a method returns to the caller when it has finished executing. A function can return a value using the return keyword, followed by the value or expression to be returned.\n",
    "    It's possible to have a return value in an expression, for example, in an assignment statement.\n",
    "    x = add(1,2)\n",
    "    Here the return value of the function add(1,2) is assigned to the variable x"
   ]
  },
  {
   "cell_type": "raw",
   "metadata": {},
   "source": [
    "8. If a function does not have a return statement, what is the return value of a call to that function?\n",
    "Ans =\n",
    "    when a function definition does not include a return statement, it is implicitly assumed that the function returns None. None is a special value in Python that represents the absence of a value or a null value."
   ]
  },
  {
   "cell_type": "raw",
   "metadata": {},
   "source": [
    "9. How do you make a function variable refer to the global variable?\n",
    "Ans = In Python, if you want to make a function variable refer to a global variable, you can use the global keyword. The global keyword is used to indicate that a variable should be treated as a global variable, even if it is defined within a function."
   ]
  },
  {
   "cell_type": "raw",
   "metadata": {},
   "source": [
    "10. What is the data type of None?\n",
    "Ans = None is a special value in Python that represents the absence of a value or a null value. It is not considered to be a data type, but a built-in constant in Python.\n",
    "\n",
    "In Python, None is an object of its own datatype called NoneType. It has only one value None."
   ]
  },
  {
   "cell_type": "raw",
   "metadata": {},
   "source": [
    "11. What does the sentence import areallyourpetsnamederic do?\n",
    "Ams = The sentence import areallyourpetsnamederic is an import statement in Python that attempts to import a module or package with the name \"areallyourpetsnamederic\".\n",
    "\n",
    "In Python, the import statement is used to import modules or packages so that their functions, classes, and variables can be used in your code.\n",
    "\n",
    "If there is no module or package with the name \"areallyourpetsnamederic\" in the current environment, then the statement will raise an ImportError with the message \"No module named 'areallyourpetsnamederic'\""
   ]
  },
  {
   "cell_type": "raw",
   "metadata": {},
   "source": [
    "12. If you had a bacon() feature in a spam module, what would you call it after importing spam?\n",
    "Ams = If you have a function named bacon() in a module named spam, after importing the spam module, you can call the bacon() function by using the dot notation.\n",
    "For example,\n",
    "\n",
    "import spam\n",
    "spam.bacon()\n"
   ]
  },
  {
   "cell_type": "raw",
   "metadata": {},
   "source": [
    "13. What can you do to save a programme from crashing if it encounters an error?\n",
    "Ans = \n",
    "    Each and every exception has to be handled by the programmer to avoid the program from crashing abruptly. This is done by writing additional code in a program to give proper messages or instructions to the user on encountering an exception. This process is known as exception handling."
   ]
  },
  {
   "cell_type": "raw",
   "metadata": {},
   "source": [
    "14. What is the purpose of the try clause? What is the purpose of the except clause?\n",
    "Ans = The try clause is used to enclose a block of code that could potentially raise an exception. If an exception is raised within the try block, the code in the corresponding except block will be executed.\n",
    "\n",
    "    The except clause is used to specify the type of exception that will be handled by the corresponding block of code. This block of code will only be executed if the exception specified in the except clause is raised within the try block."
   ]
  }
 ],
 "metadata": {
  "language_info": {
   "name": "python"
  },
  "orig_nbformat": 4
 },
 "nbformat": 4,
 "nbformat_minor": 2
}
