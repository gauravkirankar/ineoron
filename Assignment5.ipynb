{
 "cells": [
  {
   "cell_type": "raw",
   "metadata": {},
   "source": [
    "1. What does an empty dictionary's code look like?\n",
    "Ans = An empty dictionary can be created using curly braces {} with no key-value pairs inside, like so:\n",
    "    empty_dict = {}"
   ]
  },
  {
   "cell_type": "raw",
   "metadata": {},
   "source": [
    "2. What is the value of a dictionary value with the key \"foo\" and the value 42?\n",
    "Ans = The value of a dictionary key-value pair with the key 'foo' and the value 42 would be 42.\n",
    "\n",
    "You can assign this key-value pair to a dictionary by doing:\n",
    "    my_dict = {'foo': 42}\n"
   ]
  },
  {
   "cell_type": "raw",
   "metadata": {},
   "source": [
    "3. What is the most significant distinction between a dictionary and a list?\n",
    "Ans = The most significant distinction between a dictionary and a list is that a dictionary uses keys to access its values, while a list uses indices.\n",
    "\n",
    "A list is a collection of items that are ordered and changeable. It allows duplicate members. Items in a list are accessed by their index in the list, which starts at 0. For example:\n",
    "my_list = [1, 2, 3]\n",
    "item = my_list[0] # item would be 1\n",
    "\n",
    "A dictionary is a collection of items that are unordered and changeable. It does not allow duplicate keys. Items in a dictionary are accessed by their keys. For example:\n",
    "    my_dict = {'one': 1, 'two': 2, 'three': 3}\n",
    "item = my_dict['one'] # item would be 1\n"
   ]
  },
  {
   "cell_type": "raw",
   "metadata": {},
   "source": [
    "4. What happens if you try to access spam[\"foo\"] if spam is {\"bar\" : 100}?\n",
    "Ans = If you try to access the value of a key 'foo' in a dictionary spam = {'bar': 100} which does not exist in the dictionary, it will raise a KeyError.\n",
    "\n"
   ]
  },
  {
   "cell_type": "raw",
   "metadata": {},
   "source": [
    "5. If a dictionary is stored in spam, what is the difference between the expressions \"cat\" in spam and\n",
    "\"cat\" in spam.keys()?\n",
    "Ans = The in operator checks if a given item is present in an iterable such as a list, tuple, string or dictionary. In the case of a dictionary, the in operator checks if a given key is present in the dictionary. So, 'cat' in spam will check if the key 'cat' is present in the dictionary spam\n",
    "\n",
    "The keys() method of a dictionary returns a view object that displays a list of all the keys in the dictionary. So, 'cat' in spam.keys() will check if the key 'cat' is present in the list of keys returned by the keys() method of the dictionary spam."
   ]
  },
  {
   "cell_type": "raw",
   "metadata": {},
   "source": [
    "6. If a dictionary is stored in spam, what is the difference between the expressions \"cat\" in spam and\n",
    "\"cat\" in spam.values()?\n",
    "Ans = The in operator checks if a given item is present in an iterable such as a list, tuple, string or dictionary. In the case of a dictionary, the in operator checks if a given key is present in the dictionary. So, 'cat' in spam will check if the key 'cat' is present in the dictionary spam.\n",
    "\n",
    "    The values() method of a dictionary returns a view object that displays a list of all the values in the dictionary. So, 'cat' in spam.values() will check if the value 'cat' is present in the list of values returned by the values() method of the dictionary spam."
   ]
  },
  {
   "cell_type": "raw",
   "metadata": {},
   "source": [
    "7. What is a shortcut for the following code?\n",
    "if \"color\" not in spam:\n",
    "spam[\"color\"] = \"black\"\n",
    "Ans = The  code can be shortened using the dictionary method setdefault():\n",
    "        spam.setdefault('color', 'black')\n",
    "    This method sets the value of the key 'color' to 'black' if the key does not already exist in the dictionary. If the key 'color' already exists in the dictionary, the method does nothing."
   ]
  },
  {
   "cell_type": "raw",
   "metadata": {},
   "source": [
    "8. How do you \"pretty print\" dictionary values using which module and function?\n",
    "Ans =  You can use the json module's \"dumps()\" function to \"pretty print\" the values of a dictionary. The \"dumps()\" function takes the dictionary as its first argument, and an optional second argument called \"indent\", which specifies the number of spaces to use for indentation. For example:\n",
    "    \n",
    "    import json\n",
    "    my_dict = {'a': 1, 'b': 2, 'c': 3}\n",
    "    print(json.dumps(my_dict, indent=4))\n",
    "\n",
    "This will output the following, with 4 spaces of indentation before each key-value pair:\n",
    "{\n",
    "    \"a\": 1,\n",
    "    \"b\": 2,\n",
    "    \"c\": 3\n",
    "}\n"
   ]
  }
 ],
 "metadata": {
  "kernelspec": {
   "display_name": "base",
   "language": "python",
   "name": "python3"
  },
  "language_info": {
   "name": "python",
   "version": "3.9.13 (main, Aug 25 2022, 23:51:50) [MSC v.1916 64 bit (AMD64)]"
  },
  "orig_nbformat": 4,
  "vscode": {
   "interpreter": {
    "hash": "b6d2552b99f34ee5e5386f28993d6961f1f1918567be7cdee1b15cd15d0b0747"
   }
  }
 },
 "nbformat": 4,
 "nbformat_minor": 2
}
