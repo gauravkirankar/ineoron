{
 "cells": [
  {
   "cell_type": "raw",
   "id": "f1bde15c",
   "metadata": {},
   "source": [
    "1. In the below elements which of them are values or an expression? eg:- values can be\n",
    "integer or string and expressions will be mathematical operators.\n",
    "*    = mathamatical operators\n",
    "hello = string\n",
    "-87.8 = float\n",
    "-     = mathamatical operands\n",
    "/     = mathamatical operands\n",
    "+     = mathamatical operands\n",
    "6     = integer\n"
   ]
  },
  {
   "cell_type": "raw",
   "id": "b9d71c02",
   "metadata": {},
   "source": [
    "2. What is the difference between string and variable?\n",
    "  Variables are symbols that you can use to store data in a program. You can think of them as an empty box that you fill with some data or value. Strings are data, so we can use them to fill up a variable. Declaring strings as variables can make it easier for us to work with strings throughout our Python programs."
   ]
  },
  {
   "cell_type": "raw",
   "id": "cd0bd7a8",
   "metadata": {},
   "source": [
    "3. Describe three different data types?\n",
    " Numeric data types: int, float, complex.\n",
    "String data types: str.\n",
    "Sequence types: list, tuple, range."
   ]
  },
  {
   "cell_type": "raw",
   "id": "c0ef17bd",
   "metadata": {},
   "source": [
    "4. What is an expression made up of? What do all expressions do?\n",
    "   An expression is a combination of operators and operands that is interpreted to produce some other value. In any programming language, an expression is evaluated as per the precedence of its operators."
   ]
  },
  {
   "cell_type": "raw",
   "id": "de9b92c5",
   "metadata": {},
   "source": [
    "5. This assignment statements, like spam = 10. What is the difference between an\n",
    "expression and a statement?\n",
    "1. Expressions can be assigned or used as operands, while statements can only be declared.\n",
    "2. Expressions are unique in meaning, while statements are two-sided in execution. For example, 1 has a certain value while go( ) may be executed or not.\n",
    "3. Statements are the whole structure, while expressions are the building blocks. For example, a line or a block of code is a statement."
   ]
  },
  {
   "cell_type": "raw",
   "id": "bc05f707",
   "metadata": {},
   "source": [
    "6. After running the following code, what does the variable bacon contain?\n",
    "bacon = 22\n",
    "bacon + 1\n",
    "Ans= 23"
   ]
  },
  {
   "cell_type": "raw",
   "id": "a3b9b220",
   "metadata": {},
   "source": [
    "7. What should the values of the following two terms be?\n",
    " 'spam' + 'spamspam'\n",
    "    'spam'*3\n",
    " Ans = Both the expression has same value 'spamspamspam'"
   ]
  },
  {
   "cell_type": "raw",
   "id": "6fab4b34",
   "metadata": {},
   "source": [
    "8. Why is eggs a valid variable name while 100 is invalid?\n",
    "   A variable name must start with a letter or the underscore character. A variable name cannot start with a number.\n",
    "   Use of a digit to begin a variable name makes error checking during compilation or interpertation a lot more complicated. Allowing use of variable names that began like a number would probably cause huge problems for the language designers."
   ]
  },
  {
   "cell_type": "raw",
   "id": "f140caae",
   "metadata": {},
   "source": [
    "9. What three functions can be used to get the integer, floating-point number, or string\n",
    "version of a value?\n",
    "   The int() , float() , and str( ) functions will evaluate to the integer, floating-point number, and string versions of the value passed to them."
   ]
  },
  {
   "cell_type": "raw",
   "id": "cfc6a268",
   "metadata": {},
   "source": [
    "10. Why does this expression cause an error? How can you fix it?\n",
    "    'I have eaten'+ 99 + 'burritos'\n",
    "    This statement cause an error because we can only concatenate string to string not string to integer.And for the use of str() function we can make int into str and then concatinate this expression."
   ]
  }
 ],
 "metadata": {
  "kernelspec": {
   "display_name": "Python 3.9.13 ('base')",
   "language": "python",
   "name": "python3"
  },
  "language_info": {
   "codemirror_mode": {
    "name": "ipython",
    "version": 3
   },
   "file_extension": ".py",
   "mimetype": "text/x-python",
   "name": "python",
   "nbconvert_exporter": "python",
   "pygments_lexer": "ipython3",
   "version": "3.9.13"
  },
  "vscode": {
   "interpreter": {
    "hash": "b6d2552b99f34ee5e5386f28993d6961f1f1918567be7cdee1b15cd15d0b0747"
   }
  }
 },
 "nbformat": 4,
 "nbformat_minor": 5
}
