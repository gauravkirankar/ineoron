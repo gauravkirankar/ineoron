{
 "cells": [
  {
   "cell_type": "raw",
   "metadata": {},
   "source": [
    "1. What are the two values of the Boolean data type? How do you write them?\n",
    "Ans =  A variable of the primitive data type boolean can have two values: true and false,\n",
    "      A boolean data type is declared with the bool keyword and can only take the values true or false . When the value is returned, true = 1 and false = 0\n",
    "    "
   ]
  },
  {
   "cell_type": "raw",
   "metadata": {},
   "source": [
    "2.  what are the three different types of Boolean operators?\n",
    "Ans = The three basic boolen operators are: AND, OR, and NOT."
   ]
  },
  {
   "cell_type": "raw",
   "metadata": {},
   "source": [
    "3. Make a list of each Boolean operator's truth tables (i.e. every possible combination of Boolean\n",
    "values for the operator and what it evaluate ).\n",
    "Ans=  AND operator =\n",
    "                A\tB\tA and B\n",
    "                T\tT\tT\n",
    "                T\tF\tF\n",
    "                F\tT\tF\n",
    "                F\tF\tF\n",
    "\n",
    "    OR operator=\n",
    "                A\tB\tA or B\n",
    "                T\tT\tT\n",
    "                T\tF\tT\n",
    "                F\tT\tT\n",
    "                F\tF\tF\n",
    "\n",
    "    NOT operator=\n",
    "                A\tnot A\n",
    "                T\tF\n",
    "                F\tT\n",
    "\n",
    "    XOR operator=\n",
    "                A\tB\tA ^ B\n",
    "                T\tT\tF\n",
    "                T\tF\tT\n",
    "                F\tT\tT\n",
    "                F\tF\tF\n",
    "\n",
    "    NAND operator=\n",
    "                A\tB\tnot(A and B)\n",
    "                T\tT\tF\n",
    "                T\tF\tT\n",
    "                F\tT\tT\n",
    "                F\tF\tT\n",
    "\n",
    "    NOR operator=\n",
    "                A\tB\tnot(A or B)\n",
    "                T\tT\tF\n",
    "                T\tF\tF\n",
    "                F\tT\tF\n",
    "                F\tF\tT\n",
    "\n",
    "    XNOR operator=\n",
    "            A\tB\tnot(A ^ B)\n",
    "            T\tT\tT\n",
    "            T\tF\tF\n",
    "            F\tT\tF\n",
    "            F\tF\tT"
   ]
  },
  {
   "cell_type": "raw",
   "metadata": {},
   "source": [
    "4. What are the values of the following expressions?\n",
    "(5 > 4) and (3 == 5)                        = False\n",
    "not (5 > 4)                                 = False\n",
    "(5 > 4) or (3 == 5)                         = true\n",
    "not ((5 > 4) or (3 == 5))                   = false\n",
    "(True and True) and (True == False)         = false\n",
    "(not False) or (not True)                   = true"
   ]
  },
  {
   "cell_type": "raw",
   "metadata": {},
   "source": [
    "5. What are the six comparison operators?\n",
    "Ans= The six comparison operators are : less than(<), greater than(>), less than or equal to(<=), greater than or equal to(>=), equal to(==), and not equal to(!=)."
   ]
  },
  {
   "cell_type": "raw",
   "metadata": {},
   "source": [
    "6. How do you tell the difference between the equal to and assignment operators?Describe a\n",
    "condition and when you would use one.\n",
    "Ans = \n",
    "\"= operator\"\n",
    "1. It is an assignment operator.\n",
    "2. It is used for assigning the value to a variable.\n",
    "3. Constant term cannot be placed on left hand side. Example: 1=x; is invalid.\n",
    "\n",
    "\n",
    "\"== operator\"\n",
    "1. It is a relational or comparison operator.\n",
    "2. It is used for comparing two values. It returns 1 if both the values are equal otherwise returns 0.\n",
    "3.Constant term can be placed in the left hand side. Example: 1==1 is valid and returns 1."
   ]
  },
  {
   "cell_type": "raw",
   "metadata": {},
   "source": [
    "7. Identify the three blocks in this code:\n",
    "spam = 0\n",
    "if spam == 10:\n",
    "print('eggs')\n",
    "if spam > 5:\n",
    "print('bacon')\n",
    "else:\n",
    "print('ham';)\n",
    "print('spam')\n",
    "print('spam')\n",
    "\n",
    "Ans = The three blocks in this code are:\n",
    "\n",
    "1. The first if statement: if spam == 10:\n",
    "2. The second if statement: if spam > 5:\n",
    "3. The else block: else:"
   ]
  },
  {
   "cell_type": "raw",
   "metadata": {},
   "source": [
    "8. Write code that prints Hello if 1 is stored in spam, prints Howdy if 2 is stored in spam, and prints\n",
    "Greetings! if anything else is stored in spam.\n",
    "Ans = \n",
    "\n",
    "spam =1;\n",
    "if spam == 1:\n",
    "    print(\"Hello\")\n",
    "elif spam == 2:\n",
    "    print(\"Howdy\")\n",
    "else:\n",
    "    print(\"Greetings!\")\n"
   ]
  },
  {
   "cell_type": "raw",
   "metadata": {},
   "source": [
    "9.If your programme is stuck in an endless loop, what keys you’ll press?\n",
    "Ans =  If a program is stuck in an endless loop, the most common way to stop the execution is by using the keyboard shortcut CTRL + C (or CMD + C on a Mac). This sends an interrupt signal to the program, which will stop the execution of the current program.\n",
    "\n",
    "Another way to stop the execution is by using the Task Manager(Windows) or Activity Monitor(Mac) to end the task."
   ]
  },
  {
   "cell_type": "raw",
   "metadata": {},
   "source": [
    "10. How can you tell the difference between break and continue?\n",
    "Ans = break is used to exit the loop and continue is used to skip the current iteration and move to the next one."
   ]
  },
  {
   "cell_type": "raw",
   "metadata": {},
   "source": [
    "11. In a for loop, what is the difference between range(10), range(0, 10), and range(0, 10, 1)?\n",
    "Ans = \n",
    "    range(10) creates a sequence of numbers from 0 to 9 (10 numbers in total). This is equivalent to calling range(0, 10)\n",
    "    range(0, 10) creates a sequence of numbers from 0 to 9 (10 numbers in total). This will start from 0 and end on 9 which is a total of 10 numbers.\n",
    "    range(0, 10, 1) creates a sequence of numbers from 0 to 9 (10 numbers in total), but with a step of 1 between each number. This is the same as range(0, 10) and range(10). This will start from 0 and end on 9 with a step of 1."
   ]
  },
  {
   "cell_type": "raw",
   "metadata": {},
   "source": [
    "12. Write a short program that prints the numbers 1 to 10 using a for loop. Then write an equivalent\n",
    "program that prints the numbers 1 to 10 using a while loop.\n",
    "Ans= \n",
    "    for i in range(1, 11):\n",
    "    print(i)"
   ]
  },
  {
   "cell_type": "raw",
   "metadata": {},
   "source": [
    "13. If you had a function named bacon() inside a module named spam, how would you call it after\n",
    "importing spam?\n",
    "Ans= \n",
    "    from spam import bacon\n",
    "    bacon()"
   ]
  }
 ],
 "metadata": {
  "kernelspec": {
   "display_name": "Python 3.9.13 ('base')",
   "language": "python",
   "name": "python3"
  },
  "language_info": {
   "codemirror_mode": {
    "name": "ipython",
    "version": 3
   },
   "file_extension": ".py",
   "mimetype": "text/x-python",
   "name": "python",
   "nbconvert_exporter": "python",
   "pygments_lexer": "ipython3",
   "version": "3.9.13 (main, Aug 25 2022, 23:51:50) [MSC v.1916 64 bit (AMD64)]"
  },
  "orig_nbformat": 4,
  "vscode": {
   "interpreter": {
    "hash": "b6d2552b99f34ee5e5386f28993d6961f1f1918567be7cdee1b15cd15d0b0747"
   }
  }
 },
 "nbformat": 4,
 "nbformat_minor": 2
}
